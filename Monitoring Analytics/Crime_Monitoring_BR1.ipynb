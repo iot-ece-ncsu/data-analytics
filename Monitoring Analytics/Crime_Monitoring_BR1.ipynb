{
 "cells": [
  {
   "cell_type": "markdown",
   "metadata": {},
   "source": [
    "<h1>Performing Monitoring Analytics on Crime Dataset</h1>\n",
    "\n",
    "<p>\n",
    "...def....\n",
    "\n",
    "</p><p> Import the file. The below operations are same as discussed in Data Preperation.\n",
    "</p>"
   ]
  }
 ],
 "metadata": {
  "kernelspec": {
   "display_name": "Python 3",
   "language": "python",
   "name": "python3"
  },
  "language_info": {
   "codemirror_mode": {
    "name": "ipython",
    "version": 3
   },
   "file_extension": ".py",
   "mimetype": "text/x-python",
   "name": "python",
   "nbconvert_exporter": "python",
   "pygments_lexer": "ipython3",
   "version": "3.7.1"
  }
 },
 "nbformat": 4,
 "nbformat_minor": 2
}
